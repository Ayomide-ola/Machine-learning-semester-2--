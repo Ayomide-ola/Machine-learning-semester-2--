{
 "cells": [
  {
   "cell_type": "markdown",
   "id": "f036f9ca",
   "metadata": {},
   "source": [
    "## East Airline Analysis"
   ]
  },
  {
   "cell_type": "markdown",
   "id": "db0da34a-c048-4ce8-957e-4e254492d8f1",
   "metadata": {},
   "source": [
    "## # 1 Introduction \n",
    "### 1.1 What is data\n",
    "A data is a compilation of plain facts that have been gathered within a defined context. Statisticians would refer to it as a set of observations contained in variables or columns of varying/unique characteristics. Data can also be referred to as a piece of information after it has been summarised, and when subjected to analysis, data can be referred to as evidence of a hypothesis. Before data can become information and ultimately evidence, it must go through a process. Data analysis is the process in which raw data is ordered and organized, to be used in methods that help to explain the past and predict the future (Hector, 2013). \n",
    "\n",
    "While data analytics as a science does not have a predefined methodology as each dataset and context is different, generally, the process of turning raw data into actionable insight can be expected to include early data analysis (EDA), descriptive analysis, statistical analysis, diagnostic analysis, predictive analysis and prescriptive analysis. With all this in mind, regardless of the domain, there is always an ultimate goal that most analytical project seek to achieve from a dataset, which is to derive actionable insight and communicate those insights to help decision makers such as stakeholders make informed decision about the context in which the data had been gathered. Most of the time, this decision makers are not data experts. While as data professionals, we should be very informed and interested in the subtle details of analytical methodology, there is a clear gap between the information we seek to communicate and the ability of those that need this information to understand them, most of the time due to lack technical background to understand these methodologies.  This is where Data visualisation come into play. It is logically safe to assume that putting trends and insight in pictorial form will be more informative than telling numbers or texts. At the end of the day, a good data analytics implementation should provide a clear picture of where an organisation for example is, where they have been and predict where they are heading to (UCDPA,2024).\n",
    "\n",
    "### 1.2 Machine learning \n",
    "\n",
    "Machine learning (ML) is a branch of artificial intelligence (AI) that focuses on building computer systems that learn from data (Linda, 2021). Machine learning algorithms are trained to find relationships and patterns in data (Linda, 2021). Though different ML algorithms work in different ways, their ultimate goal is to make predictions about the future of a particular data context by learning the pattern in the present available data. The quality and reliability of the predictions made is dependent on the quality of the data used to train the ML algorithms. \n",
    "\n",
    "### Branches of Machine learning \n",
    "\n",
    "1. Supervised machine learning\n",
    "2. Unsupervised machine learning "
   ]
  },
  {
   "cell_type": "markdown",
   "id": "456a3598",
   "metadata": {},
   "source": [
    "### About data\n",
    "The file EastWestAirlines contains information on passengers who belong to an airline’s frequent flier program.\n",
    "For each passenger the data include information on their mileage history and on different ways they accrued or\n",
    "spent miles in the last year. The goal is to try to identify clusters of passengers that have similar characteristics\n",
    "for the purpose of targeting different segments for different types of mileage offers.\n",
    "\n",
    "### About Data (Seeds data) (ref: UCI repo)\n",
    "Soybean cultivation is one of the most important because it is used in several segments of the food industry. The evaluation of soybean cultivars subject to different planting and harvesting characteristics is an ongoing field of research. We present a dataset obtained from forty soybean cultivars planted in subsequent seasons. The experiment used randomized blocks, arranged in a split-plot scheme, with four replications. The following variables were collected: plant height, insertion of the first pod, number of stems, number of legumes per plant, number of grains per pod, a thousand seed weight, and grain yield, resulting in 320 data samples. The dataset presented can be used by researchers from different fields of activity.\n",
    "### Task\n",
    "Use appropriate cluter to identify clusters in the soybean cultivars harvested in subsequent seasons."
   ]
  },
  {
   "cell_type": "code",
   "execution_count": 1,
   "id": "3f2a7097",
   "metadata": {},
   "outputs": [],
   "source": [
    "import pandas as pd\n",
    "import matplotlib.pyplot as plt\n",
    "import seaborn as sns\n",
    "import numpy as np\n",
    "import warnings\n",
    "warnings.filterwarnings('ignore')"
   ]
  },
  {
   "cell_type": "raw",
   "id": "88b876ba-13c1-422f-b521-f32d4ada4049",
   "metadata": {},
   "source": [
    "df= pd.read_csv('codon_usage.csv')"
   ]
  },
  {
   "cell_type": "raw",
   "id": "976efbcf-9d5a-4a17-9a17-80baaa767837",
   "metadata": {},
   "source": [
    "df.head()"
   ]
  },
  {
   "cell_type": "raw",
   "id": "a5747de8-75dd-4887-8ae0-adfe1591d381",
   "metadata": {},
   "source": [
    "df.shape"
   ]
  },
  {
   "cell_type": "raw",
   "id": "74044414-5380-4b44-ade3-dee8c352f461",
   "metadata": {
    "scrolled": true
   },
   "source": [
    "df.info()"
   ]
  },
  {
   "cell_type": "raw",
   "id": "4e8a6ccb-6f78-481e-af68-3486cf1cb9cb",
   "metadata": {
    "scrolled": true
   },
   "source": [
    "df.isnull()"
   ]
  },
  {
   "cell_type": "raw",
   "id": "77dc7f26-0155-41ce-8998-a94ba038f86a",
   "metadata": {
    "scrolled": true
   },
   "source": [
    "df.describe()"
   ]
  },
  {
   "cell_type": "markdown",
   "id": "891fc8be-66f1-44f7-9588-d076f8bd384c",
   "metadata": {},
   "source": [
    "## Another data"
   ]
  },
  {
   "cell_type": "code",
   "execution_count": 8,
   "id": "b544879c",
   "metadata": {},
   "outputs": [],
   "source": [
    "df_1 = pd.read_csv('data.csv')"
   ]
  },
  {
   "cell_type": "code",
   "execution_count": 9,
   "id": "4cf9a63e-0404-46c3-8bb5-f54354540060",
   "metadata": {},
   "outputs": [
    {
     "data": {
      "text/html": [
       "<div>\n",
       "<style scoped>\n",
       "    .dataframe tbody tr th:only-of-type {\n",
       "        vertical-align: middle;\n",
       "    }\n",
       "\n",
       "    .dataframe tbody tr th {\n",
       "        vertical-align: top;\n",
       "    }\n",
       "\n",
       "    .dataframe thead th {\n",
       "        text-align: right;\n",
       "    }\n",
       "</style>\n",
       "<table border=\"1\" class=\"dataframe\">\n",
       "  <thead>\n",
       "    <tr style=\"text-align: right;\">\n",
       "      <th></th>\n",
       "      <th>Season</th>\n",
       "      <th>Cultivar</th>\n",
       "      <th>Repetition</th>\n",
       "      <th>PH</th>\n",
       "      <th>IFP</th>\n",
       "      <th>NLP</th>\n",
       "      <th>NGP</th>\n",
       "      <th>NGL</th>\n",
       "      <th>NS</th>\n",
       "      <th>MHG</th>\n",
       "      <th>GY</th>\n",
       "    </tr>\n",
       "  </thead>\n",
       "  <tbody>\n",
       "    <tr>\n",
       "      <th>0</th>\n",
       "      <td>1</td>\n",
       "      <td>NEO 760 CE</td>\n",
       "      <td>1</td>\n",
       "      <td>58.80</td>\n",
       "      <td>15.20</td>\n",
       "      <td>98.2</td>\n",
       "      <td>177.80</td>\n",
       "      <td>1.81</td>\n",
       "      <td>5.2</td>\n",
       "      <td>152.20</td>\n",
       "      <td>3232.82</td>\n",
       "    </tr>\n",
       "    <tr>\n",
       "      <th>1</th>\n",
       "      <td>1</td>\n",
       "      <td>NEO 760 CE</td>\n",
       "      <td>2</td>\n",
       "      <td>58.60</td>\n",
       "      <td>13.40</td>\n",
       "      <td>102.0</td>\n",
       "      <td>195.00</td>\n",
       "      <td>1.85</td>\n",
       "      <td>7.2</td>\n",
       "      <td>141.69</td>\n",
       "      <td>3517.36</td>\n",
       "    </tr>\n",
       "    <tr>\n",
       "      <th>2</th>\n",
       "      <td>1</td>\n",
       "      <td>NEO 760 CE</td>\n",
       "      <td>3</td>\n",
       "      <td>63.40</td>\n",
       "      <td>17.20</td>\n",
       "      <td>100.4</td>\n",
       "      <td>203.00</td>\n",
       "      <td>2.02</td>\n",
       "      <td>6.8</td>\n",
       "      <td>148.81</td>\n",
       "      <td>3391.46</td>\n",
       "    </tr>\n",
       "    <tr>\n",
       "      <th>3</th>\n",
       "      <td>1</td>\n",
       "      <td>NEO 760 CE</td>\n",
       "      <td>4</td>\n",
       "      <td>60.27</td>\n",
       "      <td>15.27</td>\n",
       "      <td>100.2</td>\n",
       "      <td>191.93</td>\n",
       "      <td>1.89</td>\n",
       "      <td>6.4</td>\n",
       "      <td>148.50</td>\n",
       "      <td>3312.58</td>\n",
       "    </tr>\n",
       "    <tr>\n",
       "      <th>4</th>\n",
       "      <td>1</td>\n",
       "      <td>MANU IPRO</td>\n",
       "      <td>1</td>\n",
       "      <td>81.20</td>\n",
       "      <td>18.00</td>\n",
       "      <td>98.8</td>\n",
       "      <td>173.00</td>\n",
       "      <td>1.75</td>\n",
       "      <td>7.4</td>\n",
       "      <td>145.59</td>\n",
       "      <td>3230.99</td>\n",
       "    </tr>\n",
       "  </tbody>\n",
       "</table>\n",
       "</div>"
      ],
      "text/plain": [
       "   Season    Cultivar  Repetition     PH    IFP    NLP     NGP   NGL   NS  \\\n",
       "0       1  NEO 760 CE           1  58.80  15.20   98.2  177.80  1.81  5.2   \n",
       "1       1  NEO 760 CE           2  58.60  13.40  102.0  195.00  1.85  7.2   \n",
       "2       1  NEO 760 CE           3  63.40  17.20  100.4  203.00  2.02  6.8   \n",
       "3       1  NEO 760 CE           4  60.27  15.27  100.2  191.93  1.89  6.4   \n",
       "4       1   MANU IPRO           1  81.20  18.00   98.8  173.00  1.75  7.4   \n",
       "\n",
       "      MHG       GY  \n",
       "0  152.20  3232.82  \n",
       "1  141.69  3517.36  \n",
       "2  148.81  3391.46  \n",
       "3  148.50  3312.58  \n",
       "4  145.59  3230.99  "
      ]
     },
     "execution_count": 9,
     "metadata": {},
     "output_type": "execute_result"
    }
   ],
   "source": [
    "df_1.head()"
   ]
  },
  {
   "cell_type": "markdown",
   "id": "6fd8b77e-6c2c-4b07-b5f6-e78301933fae",
   "metadata": {},
   "source": [
    "## Early data analysis"
   ]
  },
  {
   "cell_type": "code",
   "execution_count": 10,
   "id": "fbfbf45b-7c31-48b3-950a-d316d2d83c8c",
   "metadata": {},
   "outputs": [
    {
     "data": {
      "text/plain": [
       "Season        0\n",
       "Cultivar      0\n",
       "Repetition    0\n",
       "PH            0\n",
       "IFP           0\n",
       "NLP           0\n",
       "NGP           0\n",
       "NGL           0\n",
       "NS            0\n",
       "MHG           0\n",
       "GY            0\n",
       "dtype: int64"
      ]
     },
     "execution_count": 10,
     "metadata": {},
     "output_type": "execute_result"
    }
   ],
   "source": [
    "df_1.isnull().sum()"
   ]
  },
  {
   "cell_type": "code",
   "execution_count": 11,
   "id": "a395773d-bf5b-4a76-9c09-05a1ae5b0e40",
   "metadata": {},
   "outputs": [
    {
     "data": {
      "text/html": [
       "<div>\n",
       "<style scoped>\n",
       "    .dataframe tbody tr th:only-of-type {\n",
       "        vertical-align: middle;\n",
       "    }\n",
       "\n",
       "    .dataframe tbody tr th {\n",
       "        vertical-align: top;\n",
       "    }\n",
       "\n",
       "    .dataframe thead th {\n",
       "        text-align: right;\n",
       "    }\n",
       "</style>\n",
       "<table border=\"1\" class=\"dataframe\">\n",
       "  <thead>\n",
       "    <tr style=\"text-align: right;\">\n",
       "      <th></th>\n",
       "      <th>Season</th>\n",
       "      <th>Repetition</th>\n",
       "      <th>PH</th>\n",
       "      <th>IFP</th>\n",
       "      <th>NLP</th>\n",
       "      <th>NGP</th>\n",
       "      <th>NGL</th>\n",
       "      <th>NS</th>\n",
       "      <th>MHG</th>\n",
       "      <th>GY</th>\n",
       "    </tr>\n",
       "  </thead>\n",
       "  <tbody>\n",
       "    <tr>\n",
       "      <th>count</th>\n",
       "      <td>320.000000</td>\n",
       "      <td>320.000000</td>\n",
       "      <td>320.000000</td>\n",
       "      <td>320.0000</td>\n",
       "      <td>320.000000</td>\n",
       "      <td>320.000000</td>\n",
       "      <td>320.000000</td>\n",
       "      <td>320.000000</td>\n",
       "      <td>320.000000</td>\n",
       "      <td>320.000000</td>\n",
       "    </tr>\n",
       "    <tr>\n",
       "      <th>mean</th>\n",
       "      <td>1.500000</td>\n",
       "      <td>2.500000</td>\n",
       "      <td>68.386781</td>\n",
       "      <td>15.4650</td>\n",
       "      <td>59.088313</td>\n",
       "      <td>135.085844</td>\n",
       "      <td>2.290844</td>\n",
       "      <td>4.071656</td>\n",
       "      <td>168.322313</td>\n",
       "      <td>3418.553794</td>\n",
       "    </tr>\n",
       "    <tr>\n",
       "      <th>std</th>\n",
       "      <td>0.500783</td>\n",
       "      <td>1.119785</td>\n",
       "      <td>8.958194</td>\n",
       "      <td>3.0243</td>\n",
       "      <td>20.068187</td>\n",
       "      <td>60.494529</td>\n",
       "      <td>0.840116</td>\n",
       "      <td>1.474531</td>\n",
       "      <td>19.625566</td>\n",
       "      <td>503.003602</td>\n",
       "    </tr>\n",
       "    <tr>\n",
       "      <th>min</th>\n",
       "      <td>1.000000</td>\n",
       "      <td>1.000000</td>\n",
       "      <td>47.600000</td>\n",
       "      <td>7.2000</td>\n",
       "      <td>20.200000</td>\n",
       "      <td>47.800000</td>\n",
       "      <td>0.940000</td>\n",
       "      <td>0.400000</td>\n",
       "      <td>127.060000</td>\n",
       "      <td>1538.230000</td>\n",
       "    </tr>\n",
       "    <tr>\n",
       "      <th>25%</th>\n",
       "      <td>1.000000</td>\n",
       "      <td>1.750000</td>\n",
       "      <td>62.950000</td>\n",
       "      <td>13.6000</td>\n",
       "      <td>44.350000</td>\n",
       "      <td>95.052500</td>\n",
       "      <td>2.000000</td>\n",
       "      <td>3.000000</td>\n",
       "      <td>153.845000</td>\n",
       "      <td>3126.611552</td>\n",
       "    </tr>\n",
       "    <tr>\n",
       "      <th>50%</th>\n",
       "      <td>1.500000</td>\n",
       "      <td>2.500000</td>\n",
       "      <td>67.200000</td>\n",
       "      <td>15.6000</td>\n",
       "      <td>54.500000</td>\n",
       "      <td>123.000000</td>\n",
       "      <td>2.280000</td>\n",
       "      <td>3.800000</td>\n",
       "      <td>166.150000</td>\n",
       "      <td>3397.276724</td>\n",
       "    </tr>\n",
       "    <tr>\n",
       "      <th>75%</th>\n",
       "      <td>2.000000</td>\n",
       "      <td>3.250000</td>\n",
       "      <td>74.347500</td>\n",
       "      <td>17.3300</td>\n",
       "      <td>71.220000</td>\n",
       "      <td>161.350000</td>\n",
       "      <td>2.480000</td>\n",
       "      <td>5.000000</td>\n",
       "      <td>183.182500</td>\n",
       "      <td>3708.262931</td>\n",
       "    </tr>\n",
       "    <tr>\n",
       "      <th>max</th>\n",
       "      <td>2.000000</td>\n",
       "      <td>4.000000</td>\n",
       "      <td>94.800000</td>\n",
       "      <td>26.4000</td>\n",
       "      <td>123.000000</td>\n",
       "      <td>683.400000</td>\n",
       "      <td>14.860000</td>\n",
       "      <td>9.000000</td>\n",
       "      <td>216.000000</td>\n",
       "      <td>4930.000000</td>\n",
       "    </tr>\n",
       "  </tbody>\n",
       "</table>\n",
       "</div>"
      ],
      "text/plain": [
       "           Season  Repetition          PH       IFP         NLP         NGP  \\\n",
       "count  320.000000  320.000000  320.000000  320.0000  320.000000  320.000000   \n",
       "mean     1.500000    2.500000   68.386781   15.4650   59.088313  135.085844   \n",
       "std      0.500783    1.119785    8.958194    3.0243   20.068187   60.494529   \n",
       "min      1.000000    1.000000   47.600000    7.2000   20.200000   47.800000   \n",
       "25%      1.000000    1.750000   62.950000   13.6000   44.350000   95.052500   \n",
       "50%      1.500000    2.500000   67.200000   15.6000   54.500000  123.000000   \n",
       "75%      2.000000    3.250000   74.347500   17.3300   71.220000  161.350000   \n",
       "max      2.000000    4.000000   94.800000   26.4000  123.000000  683.400000   \n",
       "\n",
       "              NGL          NS         MHG           GY  \n",
       "count  320.000000  320.000000  320.000000   320.000000  \n",
       "mean     2.290844    4.071656  168.322313  3418.553794  \n",
       "std      0.840116    1.474531   19.625566   503.003602  \n",
       "min      0.940000    0.400000  127.060000  1538.230000  \n",
       "25%      2.000000    3.000000  153.845000  3126.611552  \n",
       "50%      2.280000    3.800000  166.150000  3397.276724  \n",
       "75%      2.480000    5.000000  183.182500  3708.262931  \n",
       "max     14.860000    9.000000  216.000000  4930.000000  "
      ]
     },
     "execution_count": 11,
     "metadata": {},
     "output_type": "execute_result"
    }
   ],
   "source": [
    "df_1.describe()"
   ]
  },
  {
   "cell_type": "code",
   "execution_count": null,
   "id": "636e6905-221d-4774-974b-9f0b86218fd3",
   "metadata": {},
   "outputs": [],
   "source": []
  }
 ],
 "metadata": {
  "kernelspec": {
   "display_name": "Python 3 (ipykernel)",
   "language": "python",
   "name": "python3"
  },
  "language_info": {
   "codemirror_mode": {
    "name": "ipython",
    "version": 3
   },
   "file_extension": ".py",
   "mimetype": "text/x-python",
   "name": "python",
   "nbconvert_exporter": "python",
   "pygments_lexer": "ipython3",
   "version": "3.11.4"
  }
 },
 "nbformat": 4,
 "nbformat_minor": 5
}
